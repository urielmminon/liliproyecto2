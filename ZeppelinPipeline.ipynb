{
 "cells": [
  {
   "cell_type": "markdown",
   "metadata": {},
   "source": [
    "# Proyecto Final - Métodos de Gran Escala\n",
    "\n",
    "\n",
    "# Generar un Pipeline en Spark en cluster AWS \n",
    "\n",
    "\n",
    "## Equipo 1:\n",
    "\n",
    "    Itzel Muñoz: 122803\n",
    "    Uriel Miranda: 177508\n",
    "    Luis Puente: 103108\n",
    "    Juan Martínez Parente: 124458"
   ]
  },
  {
   "cell_type": "markdown",
   "metadata": {},
   "source": [
    "### Importar paquetes, declaración de variables e inicio de sesion en Spark (a través de Zeppelin)"
   ]
  },
  {
   "cell_type": "markdown",
   "metadata": {},
   "source": [
    "Para realizar este proyecto utilizamos Zeppelin.\n",
    "\n",
    "A continuación se muestra:\n",
    "\n",
    "1) La sección dónde se importaron los paquetes necesarios\n",
    "    \n",
    "2) Declaración de tipo de variables\n",
    "    \n",
    "3) Instrucciones para inicio de sesión en Spark"
   ]
  },
  {
   "cell_type": "markdown",
   "metadata": {},
   "source": [
    "![title](SparkPipelineZeppelin/Fotos/Img-2.png)"
   ]
  },
  {
   "cell_type": "markdown",
   "metadata": {},
   "source": [
    "### Cluster de AWS\n"
   ]
  },
  {
   "cell_type": "markdown",
   "metadata": {},
   "source": [
    "A continuación se muestra la sesión de AWS con el cluster corriendo"
   ]
  },
  {
   "cell_type": "markdown",
   "metadata": {},
   "source": [
    "![title](SparkPipelineZeppelin/Fotos/cluster.png)"
   ]
  },
  {
   "cell_type": "markdown",
   "metadata": {},
   "source": [
    "### Manipulación, selección y formato a variables\n"
   ]
  },
  {
   "cell_type": "markdown",
   "metadata": {},
   "source": [
    "En esta sección se utiliza un select para filtrar/seleccionar las varaibles que cumplen con los criterios de la población objetivo: \n",
    "- 1) Medicamentos \n",
    "- 2) Ciudad de México (Distrito Federal)\n",
    "- 3) Abril 2016\n",
    "\n",
    "A continuación nos quedamos con las variables relevantes para correr los modelos: producto, marca, cadena comercial, municipio, precio (promedio).\n",
    "\n",
    "Es importante mencionar que decidimos utilizar el promedio de los precios, esto con el objetivo de modelar la \"tendencia de centralidad\" de los precios; además, nos percatamos que los precios varían poco en el intevalo de tiempo (abril de 2016).\n",
    "\n",
    "Adicionalmente, se declararon algunas variables como categóricas (no strings) para poder correr los modelos"
   ]
  },
  {
   "cell_type": "markdown",
   "metadata": {},
   "source": [
    "![title](SparkPipelineZeppelin/Fotos/Img-1.png)"
   ]
  },
  {
   "cell_type": "markdown",
   "metadata": {},
   "source": [
    "### Creación del modelo de RandomForest"
   ]
  },
  {
   "cell_type": "markdown",
   "metadata": {},
   "source": [
    "Se utilizó la función VectorAssembler para combinar la lista columnas en una columna de un solo vector. Esto es útil para combinar las características brutas y las características generadas por diferentes transformadores de características en un único vector de características. Este es el formato que se utiliza para correr los modelos de arboles.\n",
    "\n",
    "A continuación se muestra como se declaró el modelo RandomForest, asi como el pipeline.\n",
    "\n",
    "También se declaran las características del grid. Los hiperparámetros fueron:\n",
    "\n",
    "1) numTrees: para los valores 64, 96 y 128. En este [_paper_ de 2012](https://www.researchgate.net/publication/230766603_How_Many_Trees_in_a_Random_Forest) de Mayumi, Santoro y Baranauskas se sugiere probar este parámetro en el intervalo [61, 128].\n",
    "\n",
    "2) maxDepth: para los valores 2, 5 y 7. \n",
    "\n",
    "En esta sección se declaran los grupos de entrenamiento (80%) y validación (20%)"
   ]
  },
  {
   "cell_type": "markdown",
   "metadata": {},
   "source": [
    "![title](SparkPipelineZeppelin/Fotos/Img-3.png)"
   ]
  },
  {
   "cell_type": "markdown",
   "metadata": {},
   "source": [
    "### Selección del mejor modelo"
   ]
  },
  {
   "cell_type": "markdown",
   "metadata": {},
   "source": [
    "La métrica utilizada para elegir el mejor modelo fue la raíz del error cuadrático medio (RMSE)."
   ]
  },
  {
   "cell_type": "markdown",
   "metadata": {},
   "source": [
    "![title](SparkPipelineZeppelin/Fotos/Img-4.png)"
   ]
  },
  {
   "cell_type": "markdown",
   "metadata": {},
   "source": [
    "En la siguiente imagen se muestra la salida del GridSearch y el valor de la métrica para cada combinación de hiperparámetros:"
   ]
  },
  {
   "cell_type": "markdown",
   "metadata": {},
   "source": [
    "![title](SparkPipelineZeppelin/Fotos/Img-5_1.png)"
   ]
  },
  {
   "cell_type": "markdown",
   "metadata": {},
   "source": [
    "Se obtiene como modelo ganador el de 7 niveles y 96 árboles con un RMSE de 106.1054, esto significa que la desviación estándar de la varianza no explicada del modelo es de 106.10 pesos. Estos hiperparámetros coinciden con los del modelo ganador del GridSearch realizado en _AutoML_.\n",
    "\n",
    "\n",
    "En la tabla final, se puede apreciar la estimación de la predicción para los primeros elementos. Se puede ver que las variables \"label\" y \"predicción\" tienen valores similares. Esto quiere decir que las métricas para seleccionar el modelo fueron las adecuadas."
   ]
  },
  {
   "cell_type": "markdown",
   "metadata": {},
   "source": [
    "![title](SparkPipelineZeppelin/Fotos/Img-6.png)"
   ]
  }
 ],
 "metadata": {
  "kernelspec": {
   "display_name": "Python 3",
   "language": "python",
   "name": "python3"
  },
  "language_info": {
   "codemirror_mode": {
    "name": "ipython",
    "version": 3
   },
   "file_extension": ".py",
   "mimetype": "text/x-python",
   "name": "python",
   "nbconvert_exporter": "python",
   "pygments_lexer": "ipython3",
   "version": "3.7.0"
  }
 },
 "nbformat": 4,
 "nbformat_minor": 2
}
