{
 "cells": [
  {
   "cell_type": "markdown",
   "metadata": {},
   "source": [
    "# Proyecto Final - Métodos de Gran Escala\n",
    "\n",
    "\n",
    "# Generar un Pipeline en Spark en cluster AWS \n",
    "\n",
    "\n",
    "## Equipo 1:\n",
    "\n",
    "    Itzel Muñoz: 122803\n",
    "    Uriel Miranda: 177508\n",
    "    Luis Puente: 103108\n",
    "    Juan Martínez Parente: 124458"
   ]
  },
  {
   "cell_type": "markdown",
   "metadata": {},
   "source": [
    "### 1. Importar paquetes, declaración de variables e inicio de sesion en Spark (a través de Zeppelin)"
   ]
  },
  {
   "cell_type": "markdown",
   "metadata": {},
   "source": [
    "Para realizar este proyecto se utilizamos Zeppelin.\n",
    "\n",
    "A continuación se muestra:\n",
    "\n",
    "1) La sección dónde se importaron los paquetes necesarios\n",
    "    \n",
    "2) Declaración de tipo de variables\n",
    "    \n",
    "3) Instrucciones para en inicio de sesión en Spark"
   ]
  },
  {
   "cell_type": "markdown",
   "metadata": {},
   "source": [
    "![title](SparkPipelineZeppelin/Fotos/Img-2.png)"
   ]
  },
  {
   "cell_type": "markdown",
   "metadata": {},
   "source": [
    "### 2. Cluster de AWS\n"
   ]
  },
  {
   "cell_type": "markdown",
   "metadata": {},
   "source": [
    "A continuación se muestra la sesión de AWS con el cluster corriendo"
   ]
  },
  {
   "cell_type": "markdown",
   "metadata": {},
   "source": [
    "![title](SparkPipelineZeppelin/Fotos/Img-7.png)"
   ]
  },
  {
   "cell_type": "markdown",
   "metadata": {},
   "source": [
    "### 3. Manipulación, selección y formato a variables\n"
   ]
  },
  {
   "cell_type": "markdown",
   "metadata": {},
   "source": [
    "En esta sección se utiliza un select para filtrar/seleccionar las varaibles que cumplen con los criterios de la población objetivo: 1) Medicamentos, 2)Ciudad de México (Distrito Federal), 3) Abril y 4) 2016.\n",
    "\n",
    "A continuación nos quedamos con las variables relevantes para correr los modelos: producto, marca, cadena comercial, municipio, precio (promedio).\n",
    "\n",
    "Es importante mencionar que decidimos utilizar el promedio de los precios, esto con el objetivo de modelar la \"tendencia de centralidad\" de los precios; además, nos percatamos que los precios varían poco en el intevalo de tiempo (abril de 2016).\n",
    "\n",
    "Adicionalmente, se declararon algunas variables como categóricas (no strings) para poder correr los modelos"
   ]
  },
  {
   "cell_type": "markdown",
   "metadata": {},
   "source": [
    "![title](SparkPipelineZeppelin/Fotos/Img-1.png)"
   ]
  },
  {
   "cell_type": "markdown",
   "metadata": {},
   "source": [
    "### 4. Creación del modelo de RandomForest"
   ]
  },
  {
   "cell_type": "markdown",
   "metadata": {},
   "source": [
    "Se utilizó la función VectorAssembler para combinar la lista columnas en una columna de un solo vector. Esto es útil para combinar las características brutas y las características generadas por diferentes transformadores de características en un único vector de características. Este es el formato que se utiliza para correr los modelos de arboles.\n",
    "\n",
    "A continuación se muestra como se declaró el modelo RandomFores, asi como el pipeline.\n",
    "\n",
    "También se declaran las características del grid. Los hiperparámetros fueron:\n",
    "\n",
    "1) numTrees: para los valores 64, 96 y 128. En este [_paper_ de 2012](https://www.researchgate.net/publication/230766603_How_Many_Trees_in_a_Random_Forest) de Mayumi, Santoro y Baranauskas se sugiere probar este parámetro en el intervalo [61, 128].\n",
    "\n",
    "2) maxDepth: para los valores 2, 5 y 7. 2 es la profundidad mínima, y como contamos con seis variables explicativas, una profundidad mázima de 7 nos pareció razonable.\n",
    "\n",
    "En esta sección se declaran los grupos de entrenamiento (80%) y validación (20%)\n",
    "\n",
    "También se muestra la instrucción para encontrar el mejor conjunto de parámetros"
   ]
  },
  {
   "cell_type": "markdown",
   "metadata": {},
   "source": [
    "![title](SparkPipelineZeppelin/Fotos/Img-3.png)"
   ]
  },
  {
   "cell_type": "markdown",
   "metadata": {},
   "source": [
    "### 5. Selección del mejor modelo"
   ]
  },
  {
   "cell_type": "markdown",
   "metadata": {},
   "source": [
    "JUSTIFICAR METRICAS PARA SELECCIONAR EL MODELO\n",
    "\n",
    "¿QUÉ SIGNIFICA LA INSTRUCCIÓN UID?"
   ]
  },
  {
   "cell_type": "markdown",
   "metadata": {},
   "source": [
    "![title](SparkPipelineZeppelin/Fotos/Img-4.png)"
   ]
  },
  {
   "cell_type": "markdown",
   "metadata": {},
   "source": [
    "### 6. Extacción y estimación de parámetros"
   ]
  },
  {
   "cell_type": "markdown",
   "metadata": {},
   "source": [
    "En esta sección se extraen y estiman los parámetros a partir de los modelos que se corrieron.\n",
    "\n",
    "¿CUÁL FUE LA CONFIGURACIÓN DE VALORES?\n",
    "\n",
    "\n",
    "¿ESTA ES LA IMAGEN DE SALIDA DEL GRID SEARCH?"
   ]
  },
  {
   "cell_type": "markdown",
   "metadata": {},
   "source": [
    "![title](SparkPipelineZeppelin/Fotos/Img-5.png)"
   ]
  },
  {
   "cell_type": "markdown",
   "metadata": {},
   "source": [
    "### 7. Métricas de validación y predicciones"
   ]
  },
  {
   "cell_type": "markdown",
   "metadata": {},
   "source": [
    "En esta sección se muestran las métricas de validación, se aprecia que la mejor métrica tuvo un valor de 210.79, mientras que la segunda 118.91. Es decir, aún una significativa diferencia entre las dos mejores.\n",
    "\n",
    "INTERPRETAR VALOR OBTENIDO DE LA MÉTRICA\n",
    "\n",
    "En la tabla se puede apreciar la estimación de la predicción para los primeros elementos de la tabla. Se puede ver que las variables \"label\" y \"predicción\" tienen valores similares (no están tan lejos entre ellas). Esto quiere decir que las métricas para seleccionar el modelo fueron las adecuadas."
   ]
  },
  {
   "cell_type": "markdown",
   "metadata": {},
   "source": [
    "![title](SparkPipelineZeppelin/Fotos/Img-6.png)"
   ]
  },
  {
   "cell_type": "markdown",
   "metadata": {},
   "source": []
  },
  {
   "cell_type": "markdown",
   "metadata": {},
   "source": []
  }
 ],
 "metadata": {
  "kernelspec": {
   "display_name": "Python 3",
   "language": "python",
   "name": "python3"
  },
  "language_info": {
   "codemirror_mode": {
    "name": "ipython",
    "version": 3
   },
   "file_extension": ".py",
   "mimetype": "text/x-python",
   "name": "python",
   "nbconvert_exporter": "python",
   "pygments_lexer": "ipython3",
   "version": "3.6.3"
  }
 },
 "nbformat": 4,
 "nbformat_minor": 2
}
