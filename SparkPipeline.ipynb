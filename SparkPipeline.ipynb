{
 "cells": [
  {
   "cell_type": "code",
   "execution_count": 68,
   "metadata": {},
   "outputs": [],
   "source": [
    "%matplotlib inline\n",
    "import findspark\n",
    "import os"
   ]
  },
  {
   "cell_type": "code",
   "execution_count": 69,
   "metadata": {},
   "outputs": [],
   "source": [
    "findspark.init(os.environ['SPARK_HOME'])"
   ]
  },
  {
   "cell_type": "code",
   "execution_count": 70,
   "metadata": {},
   "outputs": [],
   "source": [
    "%matplotlib inline\n",
    "import pyspark \n",
    "from pyspark.sql.session import SparkSession\n",
    "from pyspark.sql.types import *\n",
    "#from pyspark.ml.linalg import *\n",
    "from pyspark.sql.functions import *  \n",
    "#from pyspark.ml.classification import LogisticRegression\n",
    "from pyspark.ml.feature import OneHotEncoder, StringIndexer, SQLTransformer, Normalizer, VectorAssembler, VectorIndexer\n",
    "from pyspark.ml import Pipeline\n",
    "#from pyspark.ml.feature import SQLTransformer\n",
    "from pyspark.ml.linalg import Vectors\n",
    "#from pyspark.ml.feature import Normalizer\n",
    "#from pyspark.ml.linalg import Vectors\n",
    "#from pyspark.ml.feature import VectorAssembler\n",
    "from pyspark.ml.regression import RandomForestRegressor\n",
    "#from pyspark.ml.feature import VectorIndexer\n",
    "from pyspark.ml.evaluation import RegressionEvaluator\n",
    "from pyspark.ml.tuning import ParamGridBuilder, TrainValidationSplit\n",
    "\n",
    "import time\n",
    "import pandas as pd\n",
    "import numpy as np\n",
    "import matplotlib.pyplot as plt\n",
    "import seaborn as sns"
   ]
  },
  {
   "cell_type": "code",
   "execution_count": 71,
   "metadata": {},
   "outputs": [],
   "source": [
    "# creamos la sesión de spark\n",
    "spark = SparkSession\\\n",
    ".builder\\\n",
    ".appName(\"spark_Parte2\")\\\n",
    ".getOrCreate()"
   ]
  },
  {
   "cell_type": "code",
   "execution_count": 72,
   "metadata": {},
   "outputs": [],
   "source": [
    "profecoSchema = StructType([StructField(\"producto\", StringType(), True), \\\n",
    "                     StructField(\"presentacion\", StringType(), True), \\\n",
    "                     StructField(\"marca\", StringType(), True), \\\n",
    "                     StructField(\"categoria\", StringType(), True), \\\n",
    "                     StructField(\"catalogo\", StringType(), True), \\\n",
    "                     StructField(\"precio\", DoubleType(), True), \\\n",
    "                     StructField(\"fecharegistro\", TimestampType(), True), \\\n",
    "                     StructField(\"cadenacomercial\", StringType(), True), \\\n",
    "                     StructField(\"giro\", StringType(), True), \\\n",
    "                     StructField(\"nombrecomercial\", StringType(), True), \\\n",
    "                     StructField(\"direccion\", StringType(), True), \\\n",
    "                     StructField(\"estado\", StringType(), True), \\\n",
    "                     StructField(\"municipio\", StringType(), True), \\\n",
    "                     StructField(\"latitud\", DoubleType(), True), \\\n",
    "                     StructField(\"longitud\", DoubleType(), True)] )"
   ]
  },
  {
   "cell_type": "code",
   "execution_count": 73,
   "metadata": {},
   "outputs": [],
   "source": [
    "profecoDf = spark.read.format(\"csv\")\\\n",
    "        .option(\"delimiter\", \"|\")\\\n",
    "        .option(\"header\",\"true\")\\\n",
    "        .schema(profecoSchema) \\\n",
    "        .option(\"inferSchema\", \"true\")\\\n",
    "        .load(\"profeco_final_bash.csv\")"
   ]
  },
  {
   "cell_type": "code",
   "execution_count": 74,
   "metadata": {},
   "outputs": [],
   "source": [
    "profecoDF = spark.read.format('parquet')\\\n",
    "        .load(\"profecoFinal.parquet\")"
   ]
  },
  {
   "cell_type": "code",
   "execution_count": 75,
   "metadata": {},
   "outputs": [
    {
     "name": "stdout",
     "output_type": "stream",
     "text": [
      "root\n",
      " |-- producto: string (nullable = true)\n",
      " |-- presentacion: string (nullable = true)\n",
      " |-- marca: string (nullable = true)\n",
      " |-- categoria: string (nullable = true)\n",
      " |-- catalogo: string (nullable = true)\n",
      " |-- precio: double (nullable = true)\n",
      " |-- fecharegistro: timestamp (nullable = true)\n",
      " |-- cadenacomercial: string (nullable = true)\n",
      " |-- giro: string (nullable = true)\n",
      " |-- nombrecomercial: string (nullable = true)\n",
      " |-- direccion: string (nullable = true)\n",
      " |-- estado: string (nullable = true)\n",
      " |-- municipio: string (nullable = true)\n",
      " |-- latitud: double (nullable = true)\n",
      " |-- longitud: double (nullable = true)\n",
      "\n"
     ]
    }
   ],
   "source": [
    "profecoDf.printSchema()"
   ]
  },
  {
   "cell_type": "code",
   "execution_count": 76,
   "metadata": {},
   "outputs": [
    {
     "name": "stdout",
     "output_type": "stream",
     "text": [
      "root\n",
      " |-- producto: string (nullable = true)\n",
      " |-- presentacion: string (nullable = true)\n",
      " |-- marca: string (nullable = true)\n",
      " |-- categoria: string (nullable = true)\n",
      " |-- catalogo: string (nullable = true)\n",
      " |-- precio: double (nullable = true)\n",
      " |-- fecharegistro: timestamp (nullable = true)\n",
      " |-- cadenacomercial: string (nullable = true)\n",
      " |-- giro: string (nullable = true)\n",
      " |-- nombrecomercial: string (nullable = true)\n",
      " |-- direccion: string (nullable = true)\n",
      " |-- estado: string (nullable = true)\n",
      " |-- municipio: string (nullable = true)\n",
      " |-- latitud: double (nullable = true)\n",
      " |-- longitud: double (nullable = true)\n",
      "\n"
     ]
    }
   ],
   "source": [
    "profecoDF.printSchema()"
   ]
  },
  {
   "cell_type": "code",
   "execution_count": 89,
   "metadata": {},
   "outputs": [],
   "source": [
    "# Manipulación de variables\n",
    "sqlTrans = SQLTransformer( \\\n",
    "    statement=\"SELECT * FROM  __THIS__ \\\n",
    "          WHERE categoria LIKE '%medicamentos%' \\\n",
    "          AND estado='distrito federal' \\\n",
    "          AND MONTH(fecharegistro)=4 \\\n",
    "          AND YEAR(fecharegistro)=2016\")"
   ]
  },
  {
   "cell_type": "code",
   "execution_count": 90,
   "metadata": {},
   "outputs": [],
   "source": [
    "# Formato de label / predictor\n",
    "#assemblerPrecio = VectorAssembler(inputCols=[\"precio\"],outputCol=\"precioVec\")"
   ]
  },
  {
   "cell_type": "code",
   "execution_count": 91,
   "metadata": {},
   "outputs": [
    {
     "data": {
      "text/plain": [
       "45992"
      ]
     },
     "execution_count": 91,
     "metadata": {},
     "output_type": "execute_result"
    }
   ],
   "source": [
    "profecoDF.count()"
   ]
  },
  {
   "cell_type": "code",
   "execution_count": 92,
   "metadata": {},
   "outputs": [],
   "source": [
    "# Transformación de variables\n",
    "#scalerPrecio = Normalizer(inputCol='precioVec', outputCol='scaled_precio')"
   ]
  },
  {
   "cell_type": "code",
   "execution_count": 140,
   "metadata": {},
   "outputs": [],
   "source": [
    "# Selección de variables\n",
    "formula = SQLTransformer( \\\n",
    "#    statement=\"SELECT producto, marca, precio AS label ,cadenacomercial, municipio FROM  __THIS__ GROUP BY producto\")\n",
    "    statement=\"SELECT producto,marca,cadenacomercial, MEAN(precio) AS label FROM  __THIS__ GROUP BY producto,marca,cadenacomercial\")"
   ]
  },
  {
   "cell_type": "code",
   "execution_count": 141,
   "metadata": {},
   "outputs": [],
   "source": [
    "# Formato de String a categótico\n",
    "productoIndexer = StringIndexer(inputCol=\"producto\", outputCol=\"productoIndex\")\n",
    "marcaIndexer = StringIndexer(inputCol=\"marca\", outputCol=\"marcaIndex\")\n",
    "cadenacomercialIndexer = StringIndexer(inputCol=\"cadenacomercial\", outputCol=\"cadenacomercialIndex\")\n",
    "#municipioIndexer = StringIndexer(inputCol=\"municipio\", outputCol=\"municipioIndex\")"
   ]
  },
  {
   "cell_type": "code",
   "execution_count": 142,
   "metadata": {},
   "outputs": [],
   "source": [
    "assembler = VectorAssembler(\n",
    "#    inputCols=[\"productoIndex\", \"marcaIndex\",\"cadenacomercialIndex\",\"municipioIndex\"],\n",
    "    inputCols=[\"productoIndex\", \"marcaIndex\",\"cadenacomercialIndex\"],\n",
    "    outputCol=\"Features\")"
   ]
  },
  {
   "cell_type": "code",
   "execution_count": 143,
   "metadata": {},
   "outputs": [],
   "source": [
    "# Train a random forest model\n",
    "rf = RandomForestRegressor(labelCol='label',featuresCol='Features',maxBins=400)"
   ]
  },
  {
   "cell_type": "code",
   "execution_count": 144,
   "metadata": {},
   "outputs": [],
   "source": [
    "#pipeline = Pipeline(stages=[sqlTrans,formula,productoIndexer,marcaIndexer,cadenacomercialIndexer,municipioIndexer,assembler,rf])\n",
    "pipeline = Pipeline(stages=[sqlTrans,formula,productoIndexer,marcaIndexer,cadenacomercialIndexer,assembler,rf])"
   ]
  },
  {
   "cell_type": "code",
   "execution_count": 145,
   "metadata": {},
   "outputs": [],
   "source": [
    "paramGrid = ParamGridBuilder()\\\n",
    "    .addGrid(rf.maxDepth, [2,5,7])\\\n",
    "    .addGrid(rf.numTrees, [64,96,128])\\\n",
    "    .build()"
   ]
  },
  {
   "cell_type": "code",
   "execution_count": 146,
   "metadata": {},
   "outputs": [],
   "source": [
    "tvs = TrainValidationSplit(estimator=pipeline,\n",
    "                           estimatorParamMaps=paramGrid,\n",
    "                           evaluator=RegressionEvaluator(),\n",
    "                           # 80% of the data will be used for training, 20% for validation.\n",
    "                           trainRatio=0.8)"
   ]
  },
  {
   "cell_type": "code",
   "execution_count": 147,
   "metadata": {},
   "outputs": [],
   "source": [
    "model = tvs.fit(profecoDF)"
   ]
  },
  {
   "cell_type": "code",
   "execution_count": 148,
   "metadata": {},
   "outputs": [
    {
     "data": {
      "text/plain": [
       "Param(parent='TrainValidationSplitModel_41578b3a6dc0', name='estimator', doc='estimator to be cross-validated')"
      ]
     },
     "execution_count": 148,
     "metadata": {},
     "output_type": "execute_result"
    }
   ],
   "source": [
    "model.estimator"
   ]
  },
  {
   "cell_type": "code",
   "execution_count": 149,
   "metadata": {},
   "outputs": [
    {
     "data": {
      "text/plain": [
       "'TrainValidationSplitModel_41578b3a6dc0'"
      ]
     },
     "execution_count": 149,
     "metadata": {},
     "output_type": "execute_result"
    }
   ],
   "source": [
    "model.uid"
   ]
  },
  {
   "cell_type": "code",
   "execution_count": 150,
   "metadata": {},
   "outputs": [
    {
     "data": {
      "text/plain": [
       "PipelineModel_aba44237a75b"
      ]
     },
     "execution_count": 150,
     "metadata": {},
     "output_type": "execute_result"
    }
   ],
   "source": [
    "model.bestModel"
   ]
  },
  {
   "cell_type": "code",
   "execution_count": 151,
   "metadata": {},
   "outputs": [
    {
     "data": {
      "text/plain": [
       "\"estimator: estimator to be cross-validated (current: Pipeline_d897a6b29ad8)\\nestimatorParamMaps: estimator param maps (current: [{Param(parent='RandomForestRegressor_da68f211ac8f', name='maxDepth', doc='Maximum depth of the tree. (>= 0) E.g., depth 0 means 1 leaf node; depth 1 means 1 internal node + 2 leaf nodes.'): 2, Param(parent='RandomForestRegressor_da68f211ac8f', name='numTrees', doc='Number of trees to train (>= 1).'): 64}, {Param(parent='RandomForestRegressor_da68f211ac8f', name='maxDepth', doc='Maximum depth of the tree. (>= 0) E.g., depth 0 means 1 leaf node; depth 1 means 1 internal node + 2 leaf nodes.'): 2, Param(parent='RandomForestRegressor_da68f211ac8f', name='numTrees', doc='Number of trees to train (>= 1).'): 96}, {Param(parent='RandomForestRegressor_da68f211ac8f', name='maxDepth', doc='Maximum depth of the tree. (>= 0) E.g., depth 0 means 1 leaf node; depth 1 means 1 internal node + 2 leaf nodes.'): 2, Param(parent='RandomForestRegressor_da68f211ac8f', name='numTrees', doc='Number of trees to train (>= 1).'): 128}, {Param(parent='RandomForestRegressor_da68f211ac8f', name='maxDepth', doc='Maximum depth of the tree. (>= 0) E.g., depth 0 means 1 leaf node; depth 1 means 1 internal node + 2 leaf nodes.'): 5, Param(parent='RandomForestRegressor_da68f211ac8f', name='numTrees', doc='Number of trees to train (>= 1).'): 64}, {Param(parent='RandomForestRegressor_da68f211ac8f', name='maxDepth', doc='Maximum depth of the tree. (>= 0) E.g., depth 0 means 1 leaf node; depth 1 means 1 internal node + 2 leaf nodes.'): 5, Param(parent='RandomForestRegressor_da68f211ac8f', name='numTrees', doc='Number of trees to train (>= 1).'): 96}, {Param(parent='RandomForestRegressor_da68f211ac8f', name='maxDepth', doc='Maximum depth of the tree. (>= 0) E.g., depth 0 means 1 leaf node; depth 1 means 1 internal node + 2 leaf nodes.'): 5, Param(parent='RandomForestRegressor_da68f211ac8f', name='numTrees', doc='Number of trees to train (>= 1).'): 128}, {Param(parent='RandomForestRegressor_da68f211ac8f', name='maxDepth', doc='Maximum depth of the tree. (>= 0) E.g., depth 0 means 1 leaf node; depth 1 means 1 internal node + 2 leaf nodes.'): 7, Param(parent='RandomForestRegressor_da68f211ac8f', name='numTrees', doc='Number of trees to train (>= 1).'): 64}, {Param(parent='RandomForestRegressor_da68f211ac8f', name='maxDepth', doc='Maximum depth of the tree. (>= 0) E.g., depth 0 means 1 leaf node; depth 1 means 1 internal node + 2 leaf nodes.'): 7, Param(parent='RandomForestRegressor_da68f211ac8f', name='numTrees', doc='Number of trees to train (>= 1).'): 96}, {Param(parent='RandomForestRegressor_da68f211ac8f', name='maxDepth', doc='Maximum depth of the tree. (>= 0) E.g., depth 0 means 1 leaf node; depth 1 means 1 internal node + 2 leaf nodes.'): 7, Param(parent='RandomForestRegressor_da68f211ac8f', name='numTrees', doc='Number of trees to train (>= 1).'): 128}])\\nevaluator: evaluator used to select hyper-parameters that maximize the validator metric (current: RegressionEvaluator_df246e5fdbad)\\nseed: random seed. (default: -3892216695014581501)\""
      ]
     },
     "execution_count": 151,
     "metadata": {},
     "output_type": "execute_result"
    }
   ],
   "source": [
    "model.explainParams()"
   ]
  },
  {
   "cell_type": "code",
   "execution_count": 152,
   "metadata": {},
   "outputs": [
    {
     "data": {
      "text/plain": [
       "{Param(parent='TrainValidationSplitModel_41578b3a6dc0', name='seed', doc='random seed.'): -3892216695014581501,\n",
       " Param(parent='TrainValidationSplitModel_41578b3a6dc0', name='estimator', doc='estimator to be cross-validated'): Pipeline_d897a6b29ad8,\n",
       " Param(parent='TrainValidationSplitModel_41578b3a6dc0', name='estimatorParamMaps', doc='estimator param maps'): [{Param(parent='RandomForestRegressor_da68f211ac8f', name='maxDepth', doc='Maximum depth of the tree. (>= 0) E.g., depth 0 means 1 leaf node; depth 1 means 1 internal node + 2 leaf nodes.'): 2,\n",
       "   Param(parent='RandomForestRegressor_da68f211ac8f', name='numTrees', doc='Number of trees to train (>= 1).'): 64},\n",
       "  {Param(parent='RandomForestRegressor_da68f211ac8f', name='maxDepth', doc='Maximum depth of the tree. (>= 0) E.g., depth 0 means 1 leaf node; depth 1 means 1 internal node + 2 leaf nodes.'): 2,\n",
       "   Param(parent='RandomForestRegressor_da68f211ac8f', name='numTrees', doc='Number of trees to train (>= 1).'): 96},\n",
       "  {Param(parent='RandomForestRegressor_da68f211ac8f', name='maxDepth', doc='Maximum depth of the tree. (>= 0) E.g., depth 0 means 1 leaf node; depth 1 means 1 internal node + 2 leaf nodes.'): 2,\n",
       "   Param(parent='RandomForestRegressor_da68f211ac8f', name='numTrees', doc='Number of trees to train (>= 1).'): 128},\n",
       "  {Param(parent='RandomForestRegressor_da68f211ac8f', name='maxDepth', doc='Maximum depth of the tree. (>= 0) E.g., depth 0 means 1 leaf node; depth 1 means 1 internal node + 2 leaf nodes.'): 5,\n",
       "   Param(parent='RandomForestRegressor_da68f211ac8f', name='numTrees', doc='Number of trees to train (>= 1).'): 64},\n",
       "  {Param(parent='RandomForestRegressor_da68f211ac8f', name='maxDepth', doc='Maximum depth of the tree. (>= 0) E.g., depth 0 means 1 leaf node; depth 1 means 1 internal node + 2 leaf nodes.'): 5,\n",
       "   Param(parent='RandomForestRegressor_da68f211ac8f', name='numTrees', doc='Number of trees to train (>= 1).'): 96},\n",
       "  {Param(parent='RandomForestRegressor_da68f211ac8f', name='maxDepth', doc='Maximum depth of the tree. (>= 0) E.g., depth 0 means 1 leaf node; depth 1 means 1 internal node + 2 leaf nodes.'): 5,\n",
       "   Param(parent='RandomForestRegressor_da68f211ac8f', name='numTrees', doc='Number of trees to train (>= 1).'): 128},\n",
       "  {Param(parent='RandomForestRegressor_da68f211ac8f', name='maxDepth', doc='Maximum depth of the tree. (>= 0) E.g., depth 0 means 1 leaf node; depth 1 means 1 internal node + 2 leaf nodes.'): 7,\n",
       "   Param(parent='RandomForestRegressor_da68f211ac8f', name='numTrees', doc='Number of trees to train (>= 1).'): 64},\n",
       "  {Param(parent='RandomForestRegressor_da68f211ac8f', name='maxDepth', doc='Maximum depth of the tree. (>= 0) E.g., depth 0 means 1 leaf node; depth 1 means 1 internal node + 2 leaf nodes.'): 7,\n",
       "   Param(parent='RandomForestRegressor_da68f211ac8f', name='numTrees', doc='Number of trees to train (>= 1).'): 96},\n",
       "  {Param(parent='RandomForestRegressor_da68f211ac8f', name='maxDepth', doc='Maximum depth of the tree. (>= 0) E.g., depth 0 means 1 leaf node; depth 1 means 1 internal node + 2 leaf nodes.'): 7,\n",
       "   Param(parent='RandomForestRegressor_da68f211ac8f', name='numTrees', doc='Number of trees to train (>= 1).'): 128}],\n",
       " Param(parent='TrainValidationSplitModel_41578b3a6dc0', name='evaluator', doc='evaluator used to select hyper-parameters that maximize the validator metric'): RegressionEvaluator_df246e5fdbad}"
      ]
     },
     "execution_count": 152,
     "metadata": {},
     "output_type": "execute_result"
    }
   ],
   "source": [
    "model.extractParamMap()"
   ]
  },
  {
   "cell_type": "code",
   "execution_count": 153,
   "metadata": {},
   "outputs": [
    {
     "data": {
      "text/plain": [
       "PipelineModel_aba44237a75b"
      ]
     },
     "execution_count": 153,
     "metadata": {},
     "output_type": "execute_result"
    }
   ],
   "source": [
    "model.bestModel"
   ]
  },
  {
   "cell_type": "code",
   "execution_count": 154,
   "metadata": {},
   "outputs": [
    {
     "data": {
      "text/plain": [
       "[{Param(parent='RandomForestRegressor_da68f211ac8f', name='maxDepth', doc='Maximum depth of the tree. (>= 0) E.g., depth 0 means 1 leaf node; depth 1 means 1 internal node + 2 leaf nodes.'): 2,\n",
       "  Param(parent='RandomForestRegressor_da68f211ac8f', name='numTrees', doc='Number of trees to train (>= 1).'): 64},\n",
       " {Param(parent='RandomForestRegressor_da68f211ac8f', name='maxDepth', doc='Maximum depth of the tree. (>= 0) E.g., depth 0 means 1 leaf node; depth 1 means 1 internal node + 2 leaf nodes.'): 2,\n",
       "  Param(parent='RandomForestRegressor_da68f211ac8f', name='numTrees', doc='Number of trees to train (>= 1).'): 96},\n",
       " {Param(parent='RandomForestRegressor_da68f211ac8f', name='maxDepth', doc='Maximum depth of the tree. (>= 0) E.g., depth 0 means 1 leaf node; depth 1 means 1 internal node + 2 leaf nodes.'): 2,\n",
       "  Param(parent='RandomForestRegressor_da68f211ac8f', name='numTrees', doc='Number of trees to train (>= 1).'): 128},\n",
       " {Param(parent='RandomForestRegressor_da68f211ac8f', name='maxDepth', doc='Maximum depth of the tree. (>= 0) E.g., depth 0 means 1 leaf node; depth 1 means 1 internal node + 2 leaf nodes.'): 5,\n",
       "  Param(parent='RandomForestRegressor_da68f211ac8f', name='numTrees', doc='Number of trees to train (>= 1).'): 64},\n",
       " {Param(parent='RandomForestRegressor_da68f211ac8f', name='maxDepth', doc='Maximum depth of the tree. (>= 0) E.g., depth 0 means 1 leaf node; depth 1 means 1 internal node + 2 leaf nodes.'): 5,\n",
       "  Param(parent='RandomForestRegressor_da68f211ac8f', name='numTrees', doc='Number of trees to train (>= 1).'): 96},\n",
       " {Param(parent='RandomForestRegressor_da68f211ac8f', name='maxDepth', doc='Maximum depth of the tree. (>= 0) E.g., depth 0 means 1 leaf node; depth 1 means 1 internal node + 2 leaf nodes.'): 5,\n",
       "  Param(parent='RandomForestRegressor_da68f211ac8f', name='numTrees', doc='Number of trees to train (>= 1).'): 128},\n",
       " {Param(parent='RandomForestRegressor_da68f211ac8f', name='maxDepth', doc='Maximum depth of the tree. (>= 0) E.g., depth 0 means 1 leaf node; depth 1 means 1 internal node + 2 leaf nodes.'): 7,\n",
       "  Param(parent='RandomForestRegressor_da68f211ac8f', name='numTrees', doc='Number of trees to train (>= 1).'): 64},\n",
       " {Param(parent='RandomForestRegressor_da68f211ac8f', name='maxDepth', doc='Maximum depth of the tree. (>= 0) E.g., depth 0 means 1 leaf node; depth 1 means 1 internal node + 2 leaf nodes.'): 7,\n",
       "  Param(parent='RandomForestRegressor_da68f211ac8f', name='numTrees', doc='Number of trees to train (>= 1).'): 96},\n",
       " {Param(parent='RandomForestRegressor_da68f211ac8f', name='maxDepth', doc='Maximum depth of the tree. (>= 0) E.g., depth 0 means 1 leaf node; depth 1 means 1 internal node + 2 leaf nodes.'): 7,\n",
       "  Param(parent='RandomForestRegressor_da68f211ac8f', name='numTrees', doc='Number of trees to train (>= 1).'): 128}]"
      ]
     },
     "execution_count": 154,
     "metadata": {},
     "output_type": "execute_result"
    }
   ],
   "source": [
    "model.getEstimatorParamMaps()"
   ]
  },
  {
   "cell_type": "code",
   "execution_count": 155,
   "metadata": {},
   "outputs": [
    {
     "data": {
      "text/plain": [
       "[261.93832789769846,\n",
       " 266.62892239546653,\n",
       " 267.23915944851495,\n",
       " 239.14360227575764,\n",
       " 242.0394652082212,\n",
       " 242.43839226996073,\n",
       " 236.90668383364613,\n",
       " 240.50209037453038,\n",
       " 240.33611929282813]"
      ]
     },
     "execution_count": 155,
     "metadata": {},
     "output_type": "execute_result"
    }
   ],
   "source": [
    "model.validationMetrics"
   ]
  },
  {
   "cell_type": "code",
   "execution_count": null,
   "metadata": {},
   "outputs": [],
   "source": []
  },
  {
   "cell_type": "code",
   "execution_count": null,
   "metadata": {},
   "outputs": [],
   "source": []
  }
 ],
 "metadata": {
  "kernelspec": {
   "display_name": "Python 3",
   "language": "python",
   "name": "python3"
  },
  "language_info": {
   "codemirror_mode": {
    "name": "ipython",
    "version": 3
   },
   "file_extension": ".py",
   "mimetype": "text/x-python",
   "name": "python",
   "nbconvert_exporter": "python",
   "pygments_lexer": "ipython3",
   "version": "3.7.2"
  }
 },
 "nbformat": 4,
 "nbformat_minor": 2
}
