{
 "cells": [
  {
   "cell_type": "code",
   "execution_count": 1,
   "metadata": {},
   "outputs": [],
   "source": [
    "%matplotlib inline\n",
    "import findspark\n",
    "import os"
   ]
  },
  {
   "cell_type": "code",
   "execution_count": 2,
   "metadata": {},
   "outputs": [],
   "source": [
    "findspark.init(os.environ['SPARK_HOME'])"
   ]
  },
  {
   "cell_type": "code",
   "execution_count": 113,
   "metadata": {},
   "outputs": [],
   "source": [
    "%matplotlib inline\n",
    "import pyspark \n",
    "from pyspark.sql.session import SparkSession\n",
    "from pyspark.ml.linalg import *\n",
    "from pyspark.sql.functions import *  \n",
    "from pyspark.ml.classification import LogisticRegression\n",
    "from pyspark.ml.feature import OneHotEncoder, StringIndexer\n",
    "from pyspark.ml import Pipeline\n",
    "from pyspark.ml.feature import SQLTransformer\n",
    "from pyspark.ml.linalg import Vectors\n",
    "from pyspark.ml.feature import Normalizer\n",
    "from pyspark.ml.linalg import Vectors\n",
    "from pyspark.ml.feature import VectorAssembler\n",
    "from pyspark.ml.regression import RandomForestRegressor\n",
    "from pyspark.ml.feature import VectorIndexer\n",
    "from pyspark.ml.evaluation import RegressionEvaluator\n",
    "from pyspark.ml.tuning import ParamGridBuilder, TrainValidationSplit\n",
    "\n",
    "\n",
    "import time\n",
    "import pandas as pd\n",
    "import numpy as np\n",
    "import matplotlib.pyplot as plt\n",
    "import seaborn as sns\n",
    "from pyspark.sql.types import *"
   ]
  },
  {
   "cell_type": "code",
   "execution_count": 4,
   "metadata": {},
   "outputs": [],
   "source": [
    "# creamos la sesión de spark\n",
    "spark = SparkSession\\\n",
    ".builder\\\n",
    ".appName(\"spark_Parte2\")\\\n",
    ".getOrCreate()"
   ]
  },
  {
   "cell_type": "code",
   "execution_count": 5,
   "metadata": {},
   "outputs": [],
   "source": [
    "profecoSchema = StructType([StructField(\"producto\", StringType(), True), \\\n",
    "                     StructField(\"presentacion\", StringType(), True), \\\n",
    "                     StructField(\"marca\", StringType(), True), \\\n",
    "                     StructField(\"categoria\", StringType(), True), \\\n",
    "                     StructField(\"catalogo\", StringType(), True), \\\n",
    "                     StructField(\"precio\", DoubleType(), True), \\\n",
    "                     StructField(\"fecharegistro\", TimestampType(), True), \\\n",
    "                     StructField(\"cadenacomercial\", StringType(), True), \\\n",
    "                     StructField(\"giro\", StringType(), True), \\\n",
    "                     StructField(\"nombrecomercial\", StringType(), True), \\\n",
    "                     StructField(\"direccion\", StringType(), True), \\\n",
    "                     StructField(\"estado\", StringType(), True), \\\n",
    "                     StructField(\"municipio\", StringType(), True), \\\n",
    "                     StructField(\"latitud\", DoubleType(), True), \\\n",
    "                     StructField(\"longitud\", DoubleType(), True)] )"
   ]
  },
  {
   "cell_type": "code",
   "execution_count": 7,
   "metadata": {},
   "outputs": [],
   "source": [
    "profecoDf = spark.read.format(\"csv\")\\\n",
    "        .option(\"delimiter\", \"|\")\\\n",
    "        .option(\"header\",\"true\")\\\n",
    "        .schema(profecoSchema) \\\n",
    "        .option(\"inferSchema\", \"true\")\\\n",
    "        .load(\"profeco_final_bash.csv\")"
   ]
  },
  {
   "cell_type": "code",
   "execution_count": 6,
   "metadata": {},
   "outputs": [],
   "source": [
    "profecoDF = spark.read.format('parquet')\\\n",
    "        .load(\"profecoFinal.parquet\")"
   ]
  },
  {
   "cell_type": "code",
   "execution_count": 8,
   "metadata": {},
   "outputs": [
    {
     "name": "stdout",
     "output_type": "stream",
     "text": [
      "root\n",
      " |-- producto: string (nullable = true)\n",
      " |-- presentacion: string (nullable = true)\n",
      " |-- marca: string (nullable = true)\n",
      " |-- categoria: string (nullable = true)\n",
      " |-- catalogo: string (nullable = true)\n",
      " |-- precio: double (nullable = true)\n",
      " |-- fecharegistro: timestamp (nullable = true)\n",
      " |-- cadenacomercial: string (nullable = true)\n",
      " |-- giro: string (nullable = true)\n",
      " |-- nombrecomercial: string (nullable = true)\n",
      " |-- direccion: string (nullable = true)\n",
      " |-- estado: string (nullable = true)\n",
      " |-- municipio: string (nullable = true)\n",
      " |-- latitud: double (nullable = true)\n",
      " |-- longitud: double (nullable = true)\n",
      "\n"
     ]
    }
   ],
   "source": [
    "profecoDf.printSchema()"
   ]
  },
  {
   "cell_type": "code",
   "execution_count": 132,
   "metadata": {},
   "outputs": [],
   "source": [
    "# Manipulación de variables\n",
    "sqlTrans = SQLTransformer( \\\n",
    "    statement=\"SELECT *,DAY(fecharegistro) AS dia FROM  __THIS__ \\\n",
    "          WHERE categoria LIKE '%medicamentos%' \\\n",
    "          AND estado='distrito federal' \\\n",
    "          AND MONTH(fecharegistro)=4 \\\n",
    "          AND YEAR(fecharegistro)=2016\")"
   ]
  },
  {
   "cell_type": "code",
   "execution_count": 133,
   "metadata": {},
   "outputs": [],
   "source": [
    "# Formato de label / predictor\n",
    "#assemblerPrecio = VectorAssembler(inputCols=[\"precio\"],outputCol=\"precioVec\")"
   ]
  },
  {
   "cell_type": "code",
   "execution_count": 134,
   "metadata": {},
   "outputs": [],
   "source": [
    "# Transformación de variables\n",
    "#scalerPrecio = Normalizer(inputCol='precioVec', outputCol='scaled_precio')"
   ]
  },
  {
   "cell_type": "code",
   "execution_count": 135,
   "metadata": {},
   "outputs": [],
   "source": [
    "# Selección de variables\n",
    "formula = SQLTransformer( \\\n",
    "    statement=\"SELECT producto, marca, precio AS label, dia ,cadenacomercial, municipio , latitud,longitud FROM  __THIS__ \")"
   ]
  },
  {
   "cell_type": "code",
   "execution_count": 136,
   "metadata": {},
   "outputs": [],
   "source": [
    "# Formato de String a categótico\n",
    "productoIndexer = StringIndexer(inputCol=\"producto\", outputCol=\"productoIndex\")\n",
    "marcaIndexer = StringIndexer(inputCol=\"marca\", outputCol=\"marcaIndex\")\n",
    "cadenacomercialIndexer = StringIndexer(inputCol=\"cadenacomercial\", outputCol=\"cadenacomercialIndex\")\n",
    "municipioIndexer = StringIndexer(inputCol=\"municipio\", outputCol=\"municipioIndex\")"
   ]
  },
  {
   "cell_type": "code",
   "execution_count": 137,
   "metadata": {},
   "outputs": [],
   "source": [
    "assembler = VectorAssembler(\n",
    "    inputCols=[\"productoIndex\", \"marcaIndex\", \"dia\",\"cadenacomercialIndex\",\"municipioIndex\",\"latitud\",\"longitud\"],\n",
    "    outputCol=\"Features\")"
   ]
  },
  {
   "cell_type": "code",
   "execution_count": 138,
   "metadata": {},
   "outputs": [],
   "source": [
    "# Train a random forest model\n",
    "rf = RandomForestRegressor(labelCol='label',featuresCol='Features',maxBins=400)"
   ]
  },
  {
   "cell_type": "code",
   "execution_count": 139,
   "metadata": {},
   "outputs": [],
   "source": [
    "pipeline = Pipeline(stages=[sqlTrans,formula,productoIndexer,marcaIndexer,cadenacomercialIndexer,municipioIndexer,assembler,rf])"
   ]
  },
  {
   "cell_type": "code",
   "execution_count": 140,
   "metadata": {},
   "outputs": [],
   "source": [
    "paramGrid = ParamGridBuilder()\\\n",
    "    .addGrid(rf.maxDepth, [2,5,7])\\\n",
    "    .addGrid(rf.numTrees, [64,96,128])\\\n",
    "    .build()"
   ]
  },
  {
   "cell_type": "code",
   "execution_count": 141,
   "metadata": {},
   "outputs": [],
   "source": [
    "tvs = TrainValidationSplit(estimator=pipeline,\n",
    "                           estimatorParamMaps=paramGrid,\n",
    "                           evaluator=RegressionEvaluator(),\n",
    "                           # 80% of the data will be used for training, 20% for validation.\n",
    "                           trainRatio=0.8)"
   ]
  },
  {
   "cell_type": "code",
   "execution_count": 142,
   "metadata": {},
   "outputs": [],
   "source": [
    "model = tvs.fit(profecoDF)"
   ]
  },
  {
   "cell_type": "code",
   "execution_count": 147,
   "metadata": {},
   "outputs": [
    {
     "data": {
      "text/plain": [
       "Param(parent='TrainValidationSplitModel_e0b5af93dd08', name='estimator', doc='estimator to be cross-validated')"
      ]
     },
     "execution_count": 147,
     "metadata": {},
     "output_type": "execute_result"
    }
   ],
   "source": [
    "model.estimator"
   ]
  },
  {
   "cell_type": "code",
   "execution_count": 156,
   "metadata": {},
   "outputs": [
    {
     "data": {
      "text/plain": [
       "'TrainValidationSplitModel_e0b5af93dd08'"
      ]
     },
     "execution_count": 156,
     "metadata": {},
     "output_type": "execute_result"
    }
   ],
   "source": [
    "model.uid"
   ]
  },
  {
   "cell_type": "code",
   "execution_count": 157,
   "metadata": {},
   "outputs": [
    {
     "data": {
      "text/plain": [
       "PipelineModel_86e67f8e1978"
      ]
     },
     "execution_count": 157,
     "metadata": {},
     "output_type": "execute_result"
    }
   ],
   "source": [
    "model.bestModel"
   ]
  },
  {
   "cell_type": "code",
   "execution_count": 181,
   "metadata": {},
   "outputs": [
    {
     "data": {
      "text/plain": [
       "\"estimator: estimator to be cross-validated (current: Pipeline_a9c622451ec0)\\nestimatorParamMaps: estimator param maps (current: [{Param(parent='RandomForestRegressor_4b2e9af478b9', name='maxDepth', doc='Maximum depth of the tree. (>= 0) E.g., depth 0 means 1 leaf node; depth 1 means 1 internal node + 2 leaf nodes.'): 2, Param(parent='RandomForestRegressor_4b2e9af478b9', name='numTrees', doc='Number of trees to train (>= 1).'): 64}, {Param(parent='RandomForestRegressor_4b2e9af478b9', name='maxDepth', doc='Maximum depth of the tree. (>= 0) E.g., depth 0 means 1 leaf node; depth 1 means 1 internal node + 2 leaf nodes.'): 2, Param(parent='RandomForestRegressor_4b2e9af478b9', name='numTrees', doc='Number of trees to train (>= 1).'): 96}, {Param(parent='RandomForestRegressor_4b2e9af478b9', name='maxDepth', doc='Maximum depth of the tree. (>= 0) E.g., depth 0 means 1 leaf node; depth 1 means 1 internal node + 2 leaf nodes.'): 2, Param(parent='RandomForestRegressor_4b2e9af478b9', name='numTrees', doc='Number of trees to train (>= 1).'): 128}, {Param(parent='RandomForestRegressor_4b2e9af478b9', name='maxDepth', doc='Maximum depth of the tree. (>= 0) E.g., depth 0 means 1 leaf node; depth 1 means 1 internal node + 2 leaf nodes.'): 5, Param(parent='RandomForestRegressor_4b2e9af478b9', name='numTrees', doc='Number of trees to train (>= 1).'): 64}, {Param(parent='RandomForestRegressor_4b2e9af478b9', name='maxDepth', doc='Maximum depth of the tree. (>= 0) E.g., depth 0 means 1 leaf node; depth 1 means 1 internal node + 2 leaf nodes.'): 5, Param(parent='RandomForestRegressor_4b2e9af478b9', name='numTrees', doc='Number of trees to train (>= 1).'): 96}, {Param(parent='RandomForestRegressor_4b2e9af478b9', name='maxDepth', doc='Maximum depth of the tree. (>= 0) E.g., depth 0 means 1 leaf node; depth 1 means 1 internal node + 2 leaf nodes.'): 5, Param(parent='RandomForestRegressor_4b2e9af478b9', name='numTrees', doc='Number of trees to train (>= 1).'): 128}, {Param(parent='RandomForestRegressor_4b2e9af478b9', name='maxDepth', doc='Maximum depth of the tree. (>= 0) E.g., depth 0 means 1 leaf node; depth 1 means 1 internal node + 2 leaf nodes.'): 7, Param(parent='RandomForestRegressor_4b2e9af478b9', name='numTrees', doc='Number of trees to train (>= 1).'): 64}, {Param(parent='RandomForestRegressor_4b2e9af478b9', name='maxDepth', doc='Maximum depth of the tree. (>= 0) E.g., depth 0 means 1 leaf node; depth 1 means 1 internal node + 2 leaf nodes.'): 7, Param(parent='RandomForestRegressor_4b2e9af478b9', name='numTrees', doc='Number of trees to train (>= 1).'): 96}, {Param(parent='RandomForestRegressor_4b2e9af478b9', name='maxDepth', doc='Maximum depth of the tree. (>= 0) E.g., depth 0 means 1 leaf node; depth 1 means 1 internal node + 2 leaf nodes.'): 7, Param(parent='RandomForestRegressor_4b2e9af478b9', name='numTrees', doc='Number of trees to train (>= 1).'): 128}])\\nevaluator: evaluator used to select hyper-parameters that maximize the validator metric (current: RegressionEvaluator_b2b536354f9a)\\nseed: random seed. (default: 3376962289120859831)\""
      ]
     },
     "execution_count": 181,
     "metadata": {},
     "output_type": "execute_result"
    }
   ],
   "source": [
    "model.explainParams()"
   ]
  },
  {
   "cell_type": "code",
   "execution_count": 183,
   "metadata": {},
   "outputs": [
    {
     "data": {
      "text/plain": [
       "{Param(parent='TrainValidationSplitModel_e0b5af93dd08', name='seed', doc='random seed.'): 3376962289120859831,\n",
       " Param(parent='TrainValidationSplitModel_e0b5af93dd08', name='estimator', doc='estimator to be cross-validated'): Pipeline_a9c622451ec0,\n",
       " Param(parent='TrainValidationSplitModel_e0b5af93dd08', name='estimatorParamMaps', doc='estimator param maps'): [{Param(parent='RandomForestRegressor_4b2e9af478b9', name='maxDepth', doc='Maximum depth of the tree. (>= 0) E.g., depth 0 means 1 leaf node; depth 1 means 1 internal node + 2 leaf nodes.'): 2,\n",
       "   Param(parent='RandomForestRegressor_4b2e9af478b9', name='numTrees', doc='Number of trees to train (>= 1).'): 64},\n",
       "  {Param(parent='RandomForestRegressor_4b2e9af478b9', name='maxDepth', doc='Maximum depth of the tree. (>= 0) E.g., depth 0 means 1 leaf node; depth 1 means 1 internal node + 2 leaf nodes.'): 2,\n",
       "   Param(parent='RandomForestRegressor_4b2e9af478b9', name='numTrees', doc='Number of trees to train (>= 1).'): 96},\n",
       "  {Param(parent='RandomForestRegressor_4b2e9af478b9', name='maxDepth', doc='Maximum depth of the tree. (>= 0) E.g., depth 0 means 1 leaf node; depth 1 means 1 internal node + 2 leaf nodes.'): 2,\n",
       "   Param(parent='RandomForestRegressor_4b2e9af478b9', name='numTrees', doc='Number of trees to train (>= 1).'): 128},\n",
       "  {Param(parent='RandomForestRegressor_4b2e9af478b9', name='maxDepth', doc='Maximum depth of the tree. (>= 0) E.g., depth 0 means 1 leaf node; depth 1 means 1 internal node + 2 leaf nodes.'): 5,\n",
       "   Param(parent='RandomForestRegressor_4b2e9af478b9', name='numTrees', doc='Number of trees to train (>= 1).'): 64},\n",
       "  {Param(parent='RandomForestRegressor_4b2e9af478b9', name='maxDepth', doc='Maximum depth of the tree. (>= 0) E.g., depth 0 means 1 leaf node; depth 1 means 1 internal node + 2 leaf nodes.'): 5,\n",
       "   Param(parent='RandomForestRegressor_4b2e9af478b9', name='numTrees', doc='Number of trees to train (>= 1).'): 96},\n",
       "  {Param(parent='RandomForestRegressor_4b2e9af478b9', name='maxDepth', doc='Maximum depth of the tree. (>= 0) E.g., depth 0 means 1 leaf node; depth 1 means 1 internal node + 2 leaf nodes.'): 5,\n",
       "   Param(parent='RandomForestRegressor_4b2e9af478b9', name='numTrees', doc='Number of trees to train (>= 1).'): 128},\n",
       "  {Param(parent='RandomForestRegressor_4b2e9af478b9', name='maxDepth', doc='Maximum depth of the tree. (>= 0) E.g., depth 0 means 1 leaf node; depth 1 means 1 internal node + 2 leaf nodes.'): 7,\n",
       "   Param(parent='RandomForestRegressor_4b2e9af478b9', name='numTrees', doc='Number of trees to train (>= 1).'): 64},\n",
       "  {Param(parent='RandomForestRegressor_4b2e9af478b9', name='maxDepth', doc='Maximum depth of the tree. (>= 0) E.g., depth 0 means 1 leaf node; depth 1 means 1 internal node + 2 leaf nodes.'): 7,\n",
       "   Param(parent='RandomForestRegressor_4b2e9af478b9', name='numTrees', doc='Number of trees to train (>= 1).'): 96},\n",
       "  {Param(parent='RandomForestRegressor_4b2e9af478b9', name='maxDepth', doc='Maximum depth of the tree. (>= 0) E.g., depth 0 means 1 leaf node; depth 1 means 1 internal node + 2 leaf nodes.'): 7,\n",
       "   Param(parent='RandomForestRegressor_4b2e9af478b9', name='numTrees', doc='Number of trees to train (>= 1).'): 128}],\n",
       " Param(parent='TrainValidationSplitModel_e0b5af93dd08', name='evaluator', doc='evaluator used to select hyper-parameters that maximize the validator metric'): RegressionEvaluator_b2b536354f9a}"
      ]
     },
     "execution_count": 183,
     "metadata": {},
     "output_type": "execute_result"
    }
   ],
   "source": [
    "model.extractParamMap()"
   ]
  },
  {
   "cell_type": "code",
   "execution_count": 194,
   "metadata": {},
   "outputs": [
    {
     "data": {
      "text/plain": [
       "'PipelineModel_86e67f8e1978'"
      ]
     },
     "execution_count": 194,
     "metadata": {},
     "output_type": "execute_result"
    }
   ],
   "source": [
    "best_model.uid"
   ]
  }
 ],
 "metadata": {
  "kernelspec": {
   "display_name": "Python 3",
   "language": "python",
   "name": "python3"
  },
  "language_info": {
   "codemirror_mode": {
    "name": "ipython",
    "version": 3
   },
   "file_extension": ".py",
   "mimetype": "text/x-python",
   "name": "python",
   "nbconvert_exporter": "python",
   "pygments_lexer": "ipython3",
   "version": "3.7.2"
  }
 },
 "nbformat": 4,
 "nbformat_minor": 2
}
